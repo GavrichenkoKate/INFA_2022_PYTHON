{
 "cells": [
  {
   "cell_type": "markdown",
   "metadata": {
    "_uuid": "21c25e4f8bb31570029fd6b069131a5d00f84cf1"
   },
   "source": [
    "# Бонусное домашнее задание (pandas)."
   ]
  },
  {
   "cell_type": "code",
   "execution_count": 53,
   "metadata": {
    "_uuid": "568eb2d31004b87d22e119112ae01a1e75105f1d"
   },
   "outputs": [],
   "source": [
    "import pandas as pd"
   ]
  },
  {
   "cell_type": "markdown",
   "metadata": {},
   "source": [
    "#### Описание данных\n",
    "\n",
    "В папке Data находится информация о студентах. Всего 10 групп студентов. Файлы делятся на две категории:\n",
    "    * Students_info_i - информация о студентах из группы i\n",
    "    * Students_marks_i - оценки студентов из группы i за экзамены"
   ]
  },
  {
   "cell_type": "markdown",
   "metadata": {},
   "source": [
    "### Одно из важных достоинств pandas $-$ это удобные методы реляционного взаимодействия с данными, аналогичные, например, возможностям SQL для слияния и конкатенации таблиц: merge, join, concat. Наличие готовых методов позволяет не реализовывать самостоятельно поэлементную обработку данных и оперировать сразу целыми таблицами данных.\n",
    "\n",
    "Подробно об этих методах посмотрите тут: https://www.kaggle.com/residentmario/renaming-and-combining#Combining"
   ]
  },
  {
   "cell_type": "markdown",
   "metadata": {},
   "source": [
    "#### Задание 1. Соберите всю информацию о студентах в одну таблицу df. В получившейся таблице должна быть информация и оценки всех студентов из всех групп. Напечатайте несколько строк таблицы для демонстрации результата.¶"
   ]
  },
  {
   "cell_type": "code",
   "execution_count": 54,
   "metadata": {},
   "outputs": [
    {
     "name": "stdout",
     "output_type": "stream",
     "text": [
      "   index  gender race/ethnicity parental level of education     lunch  \\\n",
      "0      0  female        group B           bachelor's degree  standard   \n",
      "1      1  female        group C                some college  standard   \n",
      "2      2  female        group B             master's degree  standard   \n",
      "\n",
      "  test preparation course   group  math score  reading score  writing score  \n",
      "0                    none  group1          72             72             74  \n",
      "1               completed  group1          69             90             88  \n",
      "2                    none  group1          90             95             93  \n"
     ]
    }
   ],
   "source": [
    "#your code here\n",
    "data_0 = pd.read_csv('Students_info_0.csv')\n",
    "data_1 = pd.read_csv('Students_info_1.csv')\n",
    "data_2 = pd.read_csv('Students_info_2.csv')\n",
    "data_3 = pd.read_csv('Students_info_3.csv')\n",
    "data_5 = pd.read_csv('Students_info_5.csv')\n",
    "data_6 = pd.read_csv('Students_info_6.csv')\n",
    "data_7 = pd.read_csv('Students_info_7.csv')\n",
    "data_8 = pd.read_csv('Students_info_8.csv')\n",
    "data_9 = pd.read_csv('Students_info_9.csv')\n",
    "data_4 = pd.read_csv('Students_info_4.csv')\n",
    "datas = [data_0, data_1, data_2, data_3, data_4, data_5, data_6, data_7, data_8, data_9]\n",
    "df_s = data_0\n",
    "for i in range(1, 10):\n",
    "    df_s = pd.concat([df_s, datas[i]])\n",
    "    \n",
    "df_s.to_csv(\"df_s.csv\") # только про студентов (без оценок)\n",
    "\n",
    "data_0m = pd.read_csv('Students_marks_0.csv')\n",
    "data_1m = pd.read_csv('Students_marks_1.csv')\n",
    "data_2m = pd.read_csv('Students_marks_2.csv')\n",
    "data_3m = pd.read_csv('Students_marks_3.csv')\n",
    "data_4m = pd.read_csv('Students_marks_4.csv')\n",
    "data_5m = pd.read_csv('Students_marks_5.csv')\n",
    "data_6m = pd.read_csv('Students_marks_6.csv')\n",
    "data_7m = pd.read_csv('Students_marks_7.csv')\n",
    "data_8m = pd.read_csv('Students_marks_8.csv')\n",
    "data_9m = pd.read_csv('Students_marks_9.csv')\n",
    "\n",
    "df_m = data_0m\n",
    "datas_m = [data_0m, data_1m, data_2m, data_3m, data_4m, data_5m, data_6m, data_7m, data_8m, data_9m]\n",
    "for i in range(1, 10):\n",
    "    df_m = pd.concat([df_m, datas_m[i]])\n",
    " \n",
    "df_m = df_m.drop(columns='index')\n",
    "df_m.to_csv(\"df_m.csv\") # только про оценки\n",
    "\n",
    "\n",
    "df = pd.concat([df_s, df_m], axis=1) # ОКОНЧАТЕЛЬНАЯ ТАБЛИЦА 0-999: инфа про студентов и их оценко\n",
    "df.to_csv(\"df.csv\")\n",
    "print(df.head(3))\n",
    "\n"
   ]
  },
  {
   "cell_type": "markdown",
   "metadata": {
    "_uuid": "8524af4cbd2f7b7810e8a3095a74c9fe1df7eafa"
   },
   "source": [
    "#### Задание 2. Удалите столбец index у полученной таблицы. Напечатайте первые 10 строк таблицы."
   ]
  },
  {
   "cell_type": "code",
   "execution_count": 55,
   "metadata": {
    "_uuid": "fe62eee87b9b94ab923f57b55eaf0554612aa9e9"
   },
   "outputs": [
    {
     "name": "stdout",
     "output_type": "stream",
     "text": [
      "   gender race/ethnicity parental level of education         lunch  \\\n",
      "0  female        group B           bachelor's degree      standard   \n",
      "1  female        group C                some college      standard   \n",
      "2  female        group B             master's degree      standard   \n",
      "3    male        group A          associate's degree  free/reduced   \n",
      "4    male        group C                some college      standard   \n",
      "5  female        group B          associate's degree      standard   \n",
      "6  female        group B                some college      standard   \n",
      "7    male        group B                some college  free/reduced   \n",
      "8    male        group D                 high school  free/reduced   \n",
      "9  female        group B                 high school  free/reduced   \n",
      "\n",
      "  test preparation course   group  math score  reading score  writing score  \n",
      "0                    none  group1          72             72             74  \n",
      "1               completed  group1          69             90             88  \n",
      "2                    none  group1          90             95             93  \n",
      "3                    none  group1          47             57             44  \n",
      "4                    none  group1          76             78             75  \n",
      "5                    none  group1          71             83             78  \n",
      "6               completed  group1          88             95             92  \n",
      "7                    none  group1          40             43             39  \n",
      "8               completed  group1          64             64             67  \n",
      "9                    none  group1          38             60             50  \n"
     ]
    }
   ],
   "source": [
    "df = df.drop(columns='index')\n",
    "print(df.head(10))"
   ]
  },
  {
   "cell_type": "markdown",
   "metadata": {
    "_uuid": "5fcd622942b7ecfc318934c6a245d3bb3bf01e84"
   },
   "source": [
    "#### Задание 3. Выведите на экран размеры полученной таблицы"
   ]
  },
  {
   "cell_type": "code",
   "execution_count": 56,
   "metadata": {
    "_uuid": "16281cd7b4e941ebed8ca2e1b42f62f55d838684"
   },
   "outputs": [
    {
     "name": "stdout",
     "output_type": "stream",
     "text": [
      "(1000, 9)\n"
     ]
    }
   ],
   "source": [
    "print(df.shape)"
   ]
  },
  {
   "cell_type": "markdown",
   "metadata": {
    "_uuid": "fe8e3d58d29ca25dbbcf001392377643e6ff9a36"
   },
   "source": [
    "#### Задание 4. Выведите на экран статистические характеристики числовых столбцов таблицы (минимум, максимум, среднее значение, стандартное отклонение)"
   ]
  },
  {
   "cell_type": "code",
   "execution_count": 57,
   "metadata": {
    "_uuid": "e3d4bb80d2c4251fe517c24fcf08c5ff2d67b8aa"
   },
   "outputs": [
    {
     "name": "stdout",
     "output_type": "stream",
     "text": [
      "       math score  reading score  writing score\n",
      "count  1000.00000    1000.000000    1000.000000\n",
      "mean     66.08900      69.169000      68.054000\n",
      "std      15.16308      14.600192      15.195657\n",
      "min       0.00000      17.000000      10.000000\n",
      "25%      57.00000      59.000000      57.750000\n",
      "50%      66.00000      70.000000      69.000000\n",
      "75%      77.00000      79.000000      79.000000\n",
      "max     100.00000     100.000000     100.000000\n"
     ]
    }
   ],
   "source": [
    "print(df.describe())"
   ]
  },
  {
   "cell_type": "markdown",
   "metadata": {
    "_uuid": "b26b7de83485ecb3b8a0a7865a596e24527c7b2f"
   },
   "source": [
    "#### Задание 5. Проверьте, есть ли в таблице пропущенные значения"
   ]
  },
  {
   "cell_type": "code",
   "execution_count": 58,
   "metadata": {
    "_uuid": "4eac3f8f83d07c6e58ad1576fe0e773f37034a2f"
   },
   "outputs": [
    {
     "name": "stdout",
     "output_type": "stream",
     "text": [
      "[1000, 1000, 1000, 1000, 1000, 1000, 1000, 1000, 1000]\n"
     ]
    }
   ],
   "source": [
    "# нет, так как count везде одинаковый\n",
    "lens = [len(df[name]) for name in list(df.columns)]\n",
    "print(lens)"
   ]
  },
  {
   "cell_type": "markdown",
   "metadata": {},
   "source": [
    "#### Задание 6. Выведите на экран средние баллы студентов по каждому предмету (math, reading, writing)"
   ]
  },
  {
   "cell_type": "code",
   "execution_count": 59,
   "metadata": {},
   "outputs": [
    {
     "name": "stdout",
     "output_type": "stream",
     "text": [
      "{'mathd': 66.089, 'reading': 69.169, 'writing': 68.054}\n"
     ]
    }
   ],
   "source": [
    "desk = df.describe()\n",
    "means = list(desk.T['mean'])\n",
    "res = {'mathd': means[0], 'reading': means[1], 'writing': means[2]}\n",
    "print(res)"
   ]
  },
  {
   "cell_type": "markdown",
   "metadata": {},
   "source": [
    "**Задание 7. Как зависят оценки от того, проходил ли студент курс для подготовки к сдаче экзамена (test preparation course)? Выведите на экран для каждого предмета в отдельности средний балл студентов, проходивших курс для подготовки к экзамену и не проходивших курс.**"
   ]
  },
  {
   "cell_type": "code",
   "execution_count": 60,
   "metadata": {},
   "outputs": [
    {
     "name": "stdout",
     "output_type": "stream",
     "text": [
      "      course       math    reading    writing\n",
      "0  completed  69.695531  73.893855  74.418994\n",
      "1       none  64.077882  66.534268  64.504673\n",
      "Видим, что средний бал по каждому экзамену больше у тех, кто проходил курс\n"
     ]
    }
   ],
   "source": [
    "math = list(df['math score'])\n",
    "reading = list(df['reading score'])\n",
    "writing = list(df['writing score'])\n",
    "\n",
    "course = list(df['test preparation course'])\n",
    "\n",
    "if_completed_math, if_completed_reading, if_completed_writing, if_none_math, if_none_reading, if_none_writing = [], [], [], [], [], []\n",
    "\n",
    "for i in range(1000):\n",
    "  if course[i] == 'completed':\n",
    "    if_completed_math.append(math[i])\n",
    "    if_completed_reading.append(reading[i])\n",
    "    if_completed_writing.append(writing[i])\n",
    "  else: \n",
    "    if_none_math.append(math[i])\n",
    "    if_none_reading.append(reading[i])\n",
    "    if_none_writing.append(writing[i])    \n",
    "    \n",
    "mean_completed_math = sum(if_completed_math) / len(if_completed_math) \n",
    "mean_completed_reading = sum(if_completed_reading) / len(if_completed_reading)\n",
    "mean_completed_writing = sum(if_completed_writing) / len(if_completed_writing)\n",
    "mean_none_math = sum(if_none_math)/ len(if_none_math)\n",
    "mean_none_reading = sum(if_none_reading) / len(if_none_reading)\n",
    "mean_none_writing = sum(if_none_writing) / len(if_none_writing)\n",
    "\n",
    "df_mean = pd.DataFrame({'course' : ['completed', 'none'], 'math' : [mean_completed_math, mean_none_math], 'reading' : [mean_completed_reading, mean_none_reading], 'writing' : [mean_completed_writing, mean_none_writing]})\n",
    "print(df_mean)\n",
    "print('Видим, что средний бал по каждому экзамену больше у тех, кто проходил курс')"
   ]
  },
  {
   "cell_type": "markdown",
   "metadata": {},
   "source": [
    "**Задание 8. Выведите на экран все различные значения из столбца lunch.**"
   ]
  },
  {
   "cell_type": "code",
   "execution_count": 61,
   "metadata": {},
   "outputs": [
    {
     "name": "stdout",
     "output_type": "stream",
     "text": [
      "{'free/reduced', 'standard'}\n"
     ]
    }
   ],
   "source": [
    "print(set(list(df['lunch'])))"
   ]
  },
  {
   "cell_type": "markdown",
   "metadata": {},
   "source": [
    "**Задание 9. Переименуйте колонку \"parental level of education\" в \"education\", а \"test preparation course\" в \"test preparation\" с помощью метода pandas rename**\n",
    "https://pandas.pydata.org/pandas-docs/stable/reference/api/pandas.DataFrame.rename.html"
   ]
  },
  {
   "cell_type": "code",
   "execution_count": 62,
   "metadata": {},
   "outputs": [
    {
     "name": "stdout",
     "output_type": "stream",
     "text": [
      "   gender race/ethnicity          education     lunch test preparation  \\\n",
      "0  female        group B  bachelor's degree  standard             none   \n",
      "1  female        group C       some college  standard        completed   \n",
      "\n",
      "    group  math score  reading score  writing score  \n",
      "0  group1          72             72             74  \n",
      "1  group1          69             90             88  \n"
     ]
    }
   ],
   "source": [
    "df.rename(columns={\"parental level of education\": \"education\", \"test preparation course\": \"test preparation\"}, inplace=True)\n",
    "print(df.head(2))"
   ]
  },
  {
   "cell_type": "markdown",
   "metadata": {},
   "source": [
    "**Зафиксируем минимальный балл для сдачи экзамена**"
   ]
  },
  {
   "cell_type": "code",
   "execution_count": 63,
   "metadata": {},
   "outputs": [],
   "source": [
    "passmark = 50"
   ]
  },
  {
   "cell_type": "markdown",
   "metadata": {},
   "source": [
    "**Задание 10. Ответьте на вопросы:**\n",
    "    * Какая доля студентов сдала экзамен по математике (passmark >= 50)?\n",
    "    * Какая доля студентов, проходивших курс подготовки к экзамену, сдала экзамен по математике?\n",
    "    * Какая доля женщин, не проходивших курс подготовки к экзамену, не сдала экзамен по математике? "
   ]
  },
  {
   "cell_type": "code",
   "execution_count": 64,
   "metadata": {},
   "outputs": [
    {
     "name": "stdout",
     "output_type": "stream",
     "text": [
      "86.5 92.1788 20.9581\n",
      "доля сдавших матан - 86.5\n",
      "доля сдавших матан и проходивших курс - 92.1788\n",
      "доля девушек, не проходивших курс и не сдавших матан - 20.9581\n"
     ]
    }
   ],
   "source": [
    "math = list(df['math score'])\n",
    "reading = list(df['reading score'])\n",
    "writing = list(df['writing score'])\n",
    "gender_list = list(df['gender'])\n",
    "\n",
    "course = list(df['test preparation'])\n",
    "\n",
    "if_completed_math, if_completed_reading, if_completed_writing, if_none_math, if_none_reading, if_none_writing = [], [], [], [], [], []\n",
    "\n",
    "q_1, q_2, kol_completed, girls, girls_lose = 0, 0, 0, 0, 0\n",
    "for i in range(1000):\n",
    "  if math[i] >= passmark:\n",
    "    q_1 += 1\n",
    "    \n",
    "  if math[i] >= passmark and course[i] == 'completed':\n",
    "    q_2 += 1\n",
    "  if course[i] == 'completed':\n",
    "    kol_completed += 1\n",
    "    \n",
    "  if  gender_list[i] == 'female' and course[i] == 'none':\n",
    "    girls += 1\n",
    "  if gender_list[i] == 'female' and course[i] == 'none' and math[i] < passmark:  \n",
    "    girls_lose += 1\n",
    "    \n",
    "q_1 = (q_1 / 1000) * 100\n",
    "q_2 = (q_2 / kol_completed) * 100\n",
    "q_3 = (girls_lose / girls) * 100\n",
    "print(round(q_1, 4), round(q_2, 4), round(q_3, 4))\n",
    "print('доля сдавших матан -', round(q_1, 4))\n",
    "print('доля сдавших матан и проходивших курс -', round(q_2, 4))\n",
    "print('доля девушек, не проходивших курс и не сдавших матан -', round(q_3, 4)) \n"
   ]
  },
  {
   "cell_type": "markdown",
   "metadata": {},
   "source": [
    "**Задание 11. С помощью groupby выполните задания ниже. Также выведите время выполнения каждого из заданий.**\n",
    "    * Для каждой этнической группы выведите средний балл за экзамен по чтению\n",
    "    * Для каждого уровня образования выведите минимальный балл за экзамен по письму"
   ]
  },
  {
   "cell_type": "code",
   "execution_count": 65,
   "metadata": {},
   "outputs": [
    {
     "name": "stdout",
     "output_type": "stream",
     "text": [
      "race/ethnicity\n",
      "group A    64.674157\n",
      "group B    67.352632\n",
      "group C    69.103448\n",
      "group D    70.030534\n",
      "group E    73.028571\n",
      "Name: reading score, dtype: float64\n",
      "\n",
      "education\n",
      "associate's degree    35\n",
      "bachelor's degree     38\n",
      "high school           15\n",
      "master's degree       46\n",
      "some college          19\n",
      "some high school      10\n",
      "Name: writing score, dtype: int64\n",
      "Execution time of the program is - 0.021016836166381836\n"
     ]
    }
   ],
   "source": [
    "import time \n",
    "start = time.time()\n",
    "\n",
    "means = df.groupby(\"race/ethnicity\")['reading score'].apply(lambda x: x.mean())\n",
    "print(means)\n",
    "print()\n",
    "minim = df.groupby(\"education\")['writing score'].apply(lambda x: x.min())\n",
    "print(minim)\n",
    "\n",
    "end = time.time()\n",
    "print(\"Execution time of the program is -\", end - start)"
   ]
  },
  {
   "cell_type": "markdown",
   "metadata": {},
   "source": [
    "**Задание 12. Выполните задание 11 с помощью циклов. Сравните время выполнения.**"
   ]
  },
  {
   "cell_type": "code",
   "execution_count": 66,
   "metadata": {},
   "outputs": [
    {
     "name": "stdout",
     "output_type": "stream",
     "text": [
      "     group A    group B    group C    group D    group E\n",
      "0  64.674157  67.352632  69.103448  70.030534  73.028571\n",
      "\n",
      "   associate's degree  bachelor's degree  high school  master's degree  \\\n",
      "0                  35                 38           15               46   \n",
      "\n",
      "   some college  some high school  \n",
      "0            19                10  \n",
      "Execution time of the program is - 0.02077794075012207\n"
     ]
    }
   ],
   "source": [
    "start = time.time()\n",
    "\n",
    "reading = list(df['reading score'])\n",
    "writing = list(df['writing score'])\n",
    "race = list(df['race/ethnicity'])\n",
    "edu = list(df['education'])\n",
    "a, b, c, d, e = 0, 0, 0, 0, 0\n",
    "la, lb, lc, ld, le = 0, 0, 0, 0, 0\n",
    "A, B, C, D, E, F = [], [], [], [], [], []\n",
    "   #associate's degree    A\n",
    "   #bachelor's degree     B\n",
    "   #high school           C\n",
    "   #master's degree       D\n",
    "   #some college          E\n",
    "   #some high school      F\n",
    "for i in range(1000):\n",
    "  if race[i] == 'group A':\n",
    "    a += reading[i]\n",
    "    la += 1\n",
    "  if race[i] == 'group B':\n",
    "    b += reading[i]\n",
    "    lb += 1\n",
    "  if race[i] == 'group C':\n",
    "    c += reading[i]\n",
    "    lc += 1\n",
    "  if race[i] == 'group D':\n",
    "    d += reading[i]\n",
    "    ld += 1\n",
    "  if race[i] == 'group E':\n",
    "    e += reading[i] \n",
    "    le += 1\n",
    "    \n",
    "  if edu[i] == \"associate's degree\":\n",
    "    A.append(writing[i])\n",
    "  if edu[i] == \"bachelor's degree\":\n",
    "    B.append(writing[i])  \n",
    "  if edu[i] == \"high school\":\n",
    "    C.append(writing[i])  \n",
    "  if edu[i] == \"master's degree\":\n",
    "    D.append(writing[i])  \n",
    "  if edu[i] == \"some college\":\n",
    "    E.append(writing[i])  \n",
    "  if edu[i] == \"some high school\":\n",
    "    F.append(writing[i])    \n",
    "    \n",
    "print(pd.DataFrame({'group A' : [a / la], 'group B' : [b/lb], 'group C' : [c/lc], 'group D' : [d/ld], 'group E' : [e/le]}))\n",
    "print()\n",
    "print(pd.DataFrame({\"associate's degree\" : [min(A)], \"bachelor's degree\" : [min(B)], 'high school' : [min(C)], \"master's degree\" : [min(D)], \"some college\" : [min(E)],  \"some high school\" : [min(F)]}))\n",
    "end = time.time()\n",
    "print(\"Execution time of the program is -\", end - start)    "
   ]
  },
  {
   "cell_type": "markdown",
   "metadata": {},
   "source": [
    "**Задание 13. Выведите на экран средние баллы студентов по каждому предмету в зависимости от пола и уровня образования. То есть должно получиться количество групп, равных 2 * (число уровней образования), и для каждой такой группы выыведите средний балл по каждому из предметов.**\n",
    "\n",
    "Это можно сделать с помощью сводных таблиц (pivot_table):\n",
    "\n",
    "https://www.kaggle.com/kamilpolak/tutorial-how-to-use-pivot-table-in-pandas"
   ]
  },
  {
   "cell_type": "code",
   "execution_count": 67,
   "metadata": {},
   "outputs": [
    {
     "name": "stdout",
     "output_type": "stream",
     "text": [
      "ДЕВУШКИ\n",
      "                    №       math       read      write\n",
      "0  associate's degree  65.250000  74.120690  74.000000\n",
      "1   bachelor's degree  68.349206  77.285714  78.380952\n",
      "2         high school  59.351064  68.202128  66.691489\n",
      "3     master's degree  66.500000  76.805556  77.638889\n",
      "4        some college  65.406780  73.550847  74.050847\n",
      "5    some high school  59.296703  69.109890  68.285714\n",
      "ПАЦАНЫ\n",
      "                    №       math       read      write\n",
      "0  associate's degree  70.764151  67.433962  65.405660\n",
      "1   bachelor's degree  70.581818  68.090909  67.654545\n",
      "2         high school  64.705882  61.480392  58.539216\n",
      "3     master's degree  74.826087  73.130435  72.608696\n",
      "4        some college  69.009259  64.990741  63.148148\n",
      "5    some high school  67.840909  64.693182  61.375000\n",
      "(1000, 9)\n"
     ]
    }
   ],
   "source": [
    "female = []\n",
    "male = []\n",
    "for i in range(1000):\n",
    "  if df.iloc[i, 0]  == 'female':\n",
    "    female.append(i)\n",
    "  else:\n",
    "    male.append(i)\n",
    "    \n",
    "# девушки:\n",
    "df_female = df.iloc[female]\n",
    "mean_math = df_female.groupby(\"education\")['math score'].apply(lambda x: x.mean())\n",
    "mean_reading = df_female.groupby(\"education\")['reading score'].apply(lambda x: x.mean())\n",
    "mean_writing = df_female.groupby(\"education\")['writing score'].apply(lambda x: x.mean())\n",
    "\n",
    "df_female_mean = pd.DataFrame({'№' : [\"associate's degree\", \"bachelor's degree\", \"high school\", \"master's degree\", \"some college\", \"some high school\"], 'math' : list(mean_math), 'read' : list(mean_reading), 'write' : list(mean_writing)})\n",
    "print('ДЕВУШКИ')\n",
    "print(df_female_mean)\n",
    "\n",
    "# пацаны:\n",
    "df_male = df.iloc[male]\n",
    "mean_math = df_male.groupby(\"education\")['math score'].apply(lambda x: x.mean())\n",
    "mean_reading = df_male.groupby(\"education\")['reading score'].apply(lambda x: x.mean())\n",
    "mean_writing = df_male.groupby(\"education\")['writing score'].apply(lambda x: x.mean())\n",
    "\n",
    "df_male = pd.DataFrame({'№' : [\"associate's degree\", \"bachelor's degree\", \"high school\", \"master's degree\", \"some college\", \"some high school\"], 'math' : list(mean_math), 'read' : list(mean_reading), 'write' : list(mean_writing)})\n",
    "print('ПАЦАНЫ')\n",
    "print(df_male)\n",
    "print(df.shape)\n"
   ]
  },
  {
   "cell_type": "markdown",
   "metadata": {
    "_uuid": "3e832cb427c4314582d1953a41b8c78db75e30e3"
   },
   "source": [
    "#### Задание 14. Сколько студентов успешно сдали экзамен по математике?\n",
    "\n",
    "Создайте новый столбец в таблице df под названием Math_PassStatus и запишите в него F, если студент не сдал экзамен по математике (балл за экзамен < passmark), и P иначе.\n",
    "\n",
    "Посчитайте количество студентов, сдавших и не сдавших экзамен по математике.\n",
    "\n",
    "Сделайте аналогичные шаги для экзаменов по чтению и письму."
   ]
  },
  {
   "cell_type": "code",
   "execution_count": 68,
   "metadata": {
    "_uuid": "f43cddb72cc96b30df84bc0de83a4d9170904340"
   },
   "outputs": [
    {
     "name": "stdout",
     "output_type": "stream",
     "text": [
      "Сдали матан: 865   | Не cдали матан: 135\n",
      "Сдали reading: 910 | Не сдали reading: 90\n",
      "Сдали writing: 886 | Не сдали writing: 114\n",
      "(1000, 12)\n"
     ]
    }
   ],
   "source": [
    "df['Math_PassStatus'] = list(df[\"math score\"].apply(lambda x: 'P' if x >= 50 else 'F'))\n",
    "math_P = len([x for x in list(df['Math_PassStatus']) if x == 'P'])\n",
    "\n",
    "df[\"Reading_PassStatus\"] = list(df[\"reading score\"].apply(lambda x: 'P' if x >= 50 else 'F'))\n",
    "reading_P = len([x for x in list(df[\"Reading_PassStatus\"]) if x == 'P'])\n",
    "\n",
    "df[\"Writing_PassStatus\"] = list(df[\"writing score\"].apply(lambda x: 'P' if x >= 50 else 'F'))\n",
    "writing_P = len([x for x in list(df[\"Writing_PassStatus\"]) if x == 'P'])\n",
    "\n",
    "print('Сдали матан:', math_P, '  | Не cдали матан:', 1000 - math_P)\n",
    "print('Сдали reading:', reading_P, '| Не сдали reading:', 1000 - reading_P)\n",
    "print('Сдали writing:', writing_P, '| Не сдали writing:', 1000 - writing_P)\n",
    "print(df.shape)"
   ]
  },
  {
   "cell_type": "markdown",
   "metadata": {
    "_uuid": "b753c90914ee65501e2ed263ea614d88a381c472"
   },
   "source": [
    "#### Задание 15. Сколько студентов успешно сдали все экзамены?\n",
    "\n",
    "Создайте столбец OverAll_PassStatus и запишите в него для каждого студента 'F', если студент не сдал хотя бы один из трех экзаменов, а иначе 'P'.\n",
    "\n",
    "Посчитайте количество студентов, которые сдали все экзамены."
   ]
  },
  {
   "cell_type": "code",
   "execution_count": 69,
   "metadata": {
    "_uuid": "e98f895a022b967cab801447b616222439fe9d84"
   },
   "outputs": [
    {
     "name": "stdout",
     "output_type": "stream",
     "text": [
      "Сдали все экзамены: 812\n"
     ]
    }
   ],
   "source": [
    "df['OverAll_PassStatus'] = list(range(1000))\n",
    "for i in range(1000):\n",
    "  if list(df['Math_PassStatus'])[i] == 'P' and list(df[\"Reading_PassStatus\"])[i] == 'P' and list(df[\"Writing_PassStatus\"])[i] == 'P':\n",
    "    df.iloc[i, 12] = 'P'\n",
    "  else:\n",
    "    df.iloc[i, 12] = 'F'\n",
    "\n",
    "print('Сдали все экзамены:', len([x for x in list(df[\"OverAll_PassStatus\"]) if x == 'P']))\n",
    "\n",
    "\n",
    "\n"
   ]
  },
  {
   "cell_type": "markdown",
   "metadata": {
    "_uuid": "3af9c6cb4cbfff66d4ae09509f10b8b6ce33075d"
   },
   "source": [
    "#### Задание 16. Переведем баллы в оценки\n",
    "\n",
    "### Система перевода баллов в оценки\n",
    "####    90 и больше = A\n",
    "####      [80;90) = B\n",
    "####      [70;80) = C\n",
    "####      [60;70) = D\n",
    "####      [50;60) = E\n",
    "####    меньше 50 = F (Fail)\n",
    "\n",
    "Создайте вспомогательную функцию, которая будет по среднему баллу за три экзамена выставлять оценку студенту по данным выше критериям.\n",
    "\n",
    "Создайте столбец Grade и запишите в него оценку каждого студента.\n",
    "\n",
    "Выведите количество студентов, получивших каждую из оценок."
   ]
  },
  {
   "cell_type": "code",
   "execution_count": 70,
   "metadata": {
    "_uuid": "04707c5be4237020b906d2ac705a0db3d620506f"
   },
   "outputs": [
    {
     "name": "stdout",
     "output_type": "stream",
     "text": [
      "Grade\n",
      "A     52\n",
      "B    146\n",
      "C    261\n",
      "D    256\n",
      "E    182\n",
      "F    103\n",
      "Name: Grade, dtype: int64\n"
     ]
    }
   ],
   "source": [
    "def GetGrade(average_mark):\n",
    "  if average_mark >= 90:\n",
    "    return 'A'\n",
    "  elif average_mark >= 80:\n",
    "    return 'B'\n",
    "  elif average_mark >= 70:\n",
    "    return 'C'\n",
    "  elif average_mark >= 60:\n",
    "    return 'D'\n",
    "  elif average_mark >= 50:\n",
    "    return 'E'\n",
    "  else:\n",
    "    return 'F'\n",
    "\n",
    "df['Grade'] = list(range(1000))\n",
    "\n",
    "for i in range(1000):\n",
    "  df.iloc[i, 13] = GetGrade((df.iloc[i, 6] + df.iloc[i, 7] + df.iloc[i, 8]) / 3)\n",
    "\n",
    "print(df.groupby(\"Grade\")['Grade'].apply(lambda x: len(x.sum())))    "
   ]
  },
  {
   "cell_type": "code",
   "execution_count": 71,
   "metadata": {},
   "outputs": [
    {
     "name": "stdout",
     "output_type": "stream",
     "text": [
      "   gender race/ethnicity          education     lunch test preparation  \\\n",
      "0  female        group B  bachelor's degree  standard             none   \n",
      "1  female        group C       some college  standard        completed   \n",
      "\n",
      "    group  math score  reading score  writing score Math_PassStatus  \\\n",
      "0  group1          72             72             74               P   \n",
      "1  group1          69             90             88               P   \n",
      "\n",
      "  Reading_PassStatus Writing_PassStatus OverAll_PassStatus Grade  \n",
      "0                  P                  P                  P     C  \n",
      "1                  P                  P                  P     B  \n"
     ]
    }
   ],
   "source": [
    "print(df.head(2))"
   ]
  }
 ],
 "metadata": {
  "kernelspec": {
   "display_name": "Python 3.9.13 ('base')",
   "language": "python",
   "name": "python3"
  },
  "language_info": {
   "codemirror_mode": {
    "name": "ipython",
    "version": 3
   },
   "file_extension": ".py",
   "mimetype": "text/x-python",
   "name": "python",
   "nbconvert_exporter": "python",
   "pygments_lexer": "ipython3",
   "version": "3.9.13"
  },
  "vscode": {
   "interpreter": {
    "hash": "52d90d3cc821dd0beedd6e719dbdecc722c226b9d90ed1b663c34e1877f1142e"
   }
  }
 },
 "nbformat": 4,
 "nbformat_minor": 1
}
